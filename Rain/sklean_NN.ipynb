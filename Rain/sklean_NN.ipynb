{
 "cells": [
  {
   "cell_type": "code",
   "execution_count": 1,
   "metadata": {},
   "outputs": [
    {
     "data": {
      "text/plain": [
       "MLPClassifier(activation='logistic', alpha=0.0001, batch_size='auto',\n",
       "       beta_1=0.9, beta_2=0.999, early_stopping=False, epsilon=1e-08,\n",
       "       hidden_layer_sizes=(1000, 4), learning_rate='constant',\n",
       "       learning_rate_init=0.001, max_iter=200, momentum=0.9,\n",
       "       nesterovs_momentum=True, power_t=0.5, random_state=None,\n",
       "       shuffle=True, solver='adam', tol=0.0001, validation_fraction=0.1,\n",
       "       verbose=False, warm_start=False)"
      ]
     },
     "execution_count": 1,
     "metadata": {},
     "output_type": "execute_result"
    }
   ],
   "source": [
    "import numpy as np\n",
    "import mltools as ml\n",
    "from sklearn.neural_network import MLPClassifier\n",
    "from sklearn.preprocessing import StandardScaler  \n",
    "\n",
    "X = np.genfromtxt('data/X_train.txt', delimiter = None) #100,000 data sets, 14 features\n",
    "Y = np.genfromtxt('data/Y_train.txt', delimiter = None)\n",
    "Xf = np.genfromtxt('data/X_test.txt', delimiter = None)\n",
    "X,Y = ml.shuffleData(X,Y)\n",
    "\n",
    "scaler = StandardScaler()  \n",
    "scaler.fit(X) \n",
    "\n",
    "X = scaler.transform(X)  \n",
    "Xf = scaler.transform(Xf)\n",
    "\n",
    "Xtr = X[:80000,]\n",
    "Ytr = Y[:80000,]\n",
    "\n",
    "Xva = X[80001: 100000,]\n",
    "Yva = Y[80001: 100000,]\n",
    "\n",
    "\n",
    "nnTest = MLPClassifier(hidden_layer_sizes = (1000, 4), activation = 'logistic', solver = 'adam', \n",
    "                       learning_rate_init = 0.001) \n",
    "\n",
    "\n",
    "nnTest.fit(X,Y)\n"
   ]
  },
  {
   "cell_type": "code",
   "execution_count": 2,
   "metadata": {},
   "outputs": [
    {
     "name": "stdout",
     "output_type": "stream",
     "text": [
      "    Train AUC 2: 0.7035\n",
      "    Valid AUC 2: 0.7086\n"
     ]
    }
   ],
   "source": [
    "print(\"{0:>15}: {1:.4f}\".format('Train AUC 2',nnTest.score(Xtr, Ytr)))\n",
    "print(\"{0:>15}: {1:.4f}\".format('Valid AUC 2',nnTest.score(Xva, Yva)))\n",
    "\n",
    "kagle = nnTest.predict_proba(Xf)\n",
    "Vali = nnTest.predict_proba(X)\n",
    "\n",
    "Y_sub = np.vstack([np.arange(X.shape[0]), kagle[:, 1]]).T\n",
    "Y_vali = np.vstack([np.arange(X.shape[0]), Vali[:, 1]]).T\n",
    "\n",
    "np.savetxt('data/Y_sub.txt', Y_sub, '%d, %.5f', header='ID,Prob1', comments='', delimiter=',')\n",
    "np.savetxt('data/Y_Vali.txt', Y_vali, '%d, %.5f', header='ID,Prob1', comments='', delimiter=',')"
   ]
  },
  {
   "cell_type": "code",
   "execution_count": null,
   "metadata": {},
   "outputs": [],
   "source": []
  },
  {
   "cell_type": "code",
   "execution_count": null,
   "metadata": {},
   "outputs": [],
   "source": []
  }
 ],
 "metadata": {
  "kernelspec": {
   "display_name": "Python 3",
   "language": "python",
   "name": "python3"
  },
  "language_info": {
   "codemirror_mode": {
    "name": "ipython",
    "version": 3
   },
   "file_extension": ".py",
   "mimetype": "text/x-python",
   "name": "python",
   "nbconvert_exporter": "python",
   "pygments_lexer": "ipython3",
   "version": "3.7.0"
  }
 },
 "nbformat": 4,
 "nbformat_minor": 2
}
